{
 "cells": [
  {
   "cell_type": "code",
   "execution_count": 1,
   "id": "6b6a36d0",
   "metadata": {},
   "outputs": [],
   "source": [
    "import os\n",
    "os.environ[\"CUDA_VISIBLE_DEVICES\"] = '0'"
   ]
  },
  {
   "cell_type": "code",
   "execution_count": 2,
   "id": "2a11cbb2",
   "metadata": {},
   "outputs": [],
   "source": [
    "import matplotlib.pyplot as plt\n",
    "from PIL import Image"
   ]
  },
  {
   "cell_type": "code",
   "execution_count": 3,
   "id": "6399d7de",
   "metadata": {},
   "outputs": [],
   "source": [
    "import torch\n",
    "import torch.nn.functional as F"
   ]
  },
  {
   "cell_type": "code",
   "execution_count": 4,
   "id": "f47ad561",
   "metadata": {},
   "outputs": [],
   "source": [
    "from torchvision import transforms\n",
    "from torchvision import models\n",
    "from torch.autograd import Variable\n",
    "import torch.nn as nn\n",
    "from torch.optim import lr_scheduler\n",
    "from torch import optim\n",
    "from torchvision.utils import make_grid\n"
   ]
  },
  {
   "cell_type": "code",
   "execution_count": 5,
   "id": "6865c552",
   "metadata": {},
   "outputs": [],
   "source": [
    "from glob import glob"
   ]
  },
  {
   "cell_type": "code",
   "execution_count": 6,
   "id": "cb6bd134",
   "metadata": {},
   "outputs": [],
   "source": [
    "class MultiClassifier(nn.Module):\n",
    "    def __init__(self):\n",
    "        super(MultiClassifier, self).__init__()\n",
    "        self.ConvLayer1 = nn.Sequential(\n",
    "            nn.Conv2d(1, 64, 3), # 3, 256, 256\n",
    "            nn.MaxPool2d(2), # op: 16, 127, 127\n",
    "            nn.ReLU(), # op: 64, 127, 127\n",
    "        )\n",
    "        self.ConvLayer2 = nn.Sequential(\n",
    "            nn.Conv2d(64, 128, 3), # 64, 127, 127   \n",
    "            nn.MaxPool2d(2), #op: 128, 63, 63\n",
    "            nn.ReLU() # op: 128, 63, 63\n",
    "        )\n",
    "        self.ConvLayer3 = nn.Sequential(\n",
    "            nn.Conv2d(128, 256, 3), # 128, 63, 63\n",
    "            nn.MaxPool2d(2), #op: 256, 30, 30\n",
    "            nn.ReLU() #op: 256, 30, 30\n",
    "        )\n",
    "        \n",
    "        self.Linear1 = nn.Linear(256, 64)\n",
    "        self.Linear2 = nn.Linear(64, 10)\n",
    "                \n",
    "        \n",
    "    def forward(self, x):\n",
    "        x = self.ConvLayer1(x)\n",
    "        x = self.ConvLayer2(x)\n",
    "        x = self.ConvLayer3(x)\n",
    "\n",
    "        x = x.view(x.size(0), -1)\n",
    "        x = self.Linear1(x)\n",
    "        x = self.Linear2(x)\n",
    "        return F.softmax(x)\n",
    "\n"
   ]
  },
  {
   "cell_type": "code",
   "execution_count": 7,
   "id": "c181eadc",
   "metadata": {},
   "outputs": [],
   "source": [
    "model = MultiClassifier()\n"
   ]
  },
  {
   "cell_type": "code",
   "execution_count": 8,
   "id": "bf6f8a67",
   "metadata": {},
   "outputs": [
    {
     "data": {
      "text/plain": [
       "<All keys matched successfully>"
      ]
     },
     "execution_count": 8,
     "metadata": {},
     "output_type": "execute_result"
    }
   ],
   "source": [
    "model.load_state_dict(torch.load('./fmnist_cls.pth'))\n",
    "# model.load_state_dict(torch.load('./mnist_cls.pth'))"
   ]
  },
  {
   "cell_type": "code",
   "execution_count": 9,
   "id": "42c23eae",
   "metadata": {},
   "outputs": [],
   "source": [
    "model = model.cuda()"
   ]
  },
  {
   "cell_type": "code",
   "execution_count": 10,
   "id": "ab8336ee",
   "metadata": {},
   "outputs": [
    {
     "name": "stdout",
     "output_type": "stream",
     "text": [
      "/home/iis519409/DPGEN-FashionMNIST\r\n"
     ]
    }
   ],
   "source": [
    "!pwd"
   ]
  },
  {
   "cell_type": "code",
   "execution_count": 11,
   "id": "eb7ffd7f",
   "metadata": {},
   "outputs": [
    {
     "name": "stdout",
     "output_type": "stream",
     "text": [
      "1015_FashionMNIST_EXP_EXP10_K5_IMAGE_SIZE_28_BATCH_128_TWCII\r\n",
      "1015_FashionMNIST_EXP_EXP1_K2_IMAGE_SIZE_28_BATCH_128_TWCII\r\n",
      "1020_MNIST_EXP_EXP10_K5_IMAGE_SIZE_28_BATCH_128_TWCII\r\n",
      "1020_MNIST_EXP_EXP2_K2_IMAGE_SIZE_28_BATCH_128_TWCII\r\n",
      "1023_FashionMNIST_EXP_EXPINF_K5_IMAGE_SIZE_28_BATCH_128_TWCII\r\n",
      "1023_MNIST_EXP_EXPINF_K5_IMAGE_SIZE_28_BATCH_128_TWCII\r\n",
      "1108_FashionMNIST_EXP_EXP02_K2_IMAGE_SIZE_28_BATCH_256_TWCII\r\n",
      "1108_MNIST_EXP_EXP02_K2_IMAGE_SIZE_28_BATCH_256_TWCII\r\n",
      "1109_FashionMNIST_EXP_EXP02_K2_IMAGE_SIZE_28_BATCH_128_TWCII\r\n",
      "1109_FashionMNIST_EXP_EXP02_K2_IMAGE_SIZE_28_BATCH_256_TWCII\r\n",
      "1109_MNIST_EXP_EXP02_K2_IMAGE_SIZE_28_BATCH_128_TWCII\r\n",
      "images\r\n"
     ]
    }
   ],
   "source": [
    "# !ls exp/image_samples/1015_FashionMNIST_EXP_EXP1_K2_IMAGE_SIZE_28_BATCH_128_TWCII | wc -l\n",
    "!ls exp/image_samples/"
   ]
  },
  {
   "cell_type": "code",
   "execution_count": 22,
   "id": "691558a0",
   "metadata": {},
   "outputs": [],
   "source": [
    "# base = 'exp/image_samples/1020_MNIST_EXP_EXP2_K2_IMAGE_SIZE_28_BATCH_128_TWCII/'\n",
    "# base = 'exp/image_samples/1020_MNIST_EXP_EXP10_K5_IMAGE_SIZE_28_BATCH_128_TWCII/'\n",
    "# base = 'exp/image_samples/1023_MNIST_EXP_EXPINF_K5_IMAGE_SIZE_28_BATCH_128_TWCII/'\n",
    "\n",
    "# base = 'exp/image_samples/1023_FashionMNIST_EXP_EXPINF_K5_IMAGE_SIZE_28_BATCH_128_TWCII/'\n",
    "\n",
    "base = 'exp/image_samples/1109_FashionMNIST_EXP_EXP02_K2_IMAGE_SIZE_28_BATCH_128_TWCII/'\n",
    "\n"
   ]
  },
  {
   "cell_type": "code",
   "execution_count": 23,
   "id": "a512e258",
   "metadata": {},
   "outputs": [],
   "source": [
    "images = glob(base + '/*')"
   ]
  },
  {
   "cell_type": "code",
   "execution_count": 24,
   "id": "cfc82d3e",
   "metadata": {},
   "outputs": [
    {
     "data": {
      "text/plain": [
       "2816"
      ]
     },
     "execution_count": 24,
     "metadata": {},
     "output_type": "execute_result"
    }
   ],
   "source": [
    "len(images)"
   ]
  },
  {
   "cell_type": "code",
   "execution_count": 25,
   "id": "39741c9a",
   "metadata": {},
   "outputs": [],
   "source": [
    "x = Image.open(images[6])"
   ]
  },
  {
   "cell_type": "code",
   "execution_count": 26,
   "id": "112dfc21",
   "metadata": {},
   "outputs": [],
   "source": [
    "transform=transforms.Compose([\n",
    "    transforms.ToTensor(),\n",
    "                             ])"
   ]
  },
  {
   "cell_type": "code",
   "execution_count": 27,
   "id": "fcb42bbe",
   "metadata": {},
   "outputs": [],
   "source": [
    "x = transform(x)"
   ]
  },
  {
   "cell_type": "code",
   "execution_count": 28,
   "id": "458a644e",
   "metadata": {},
   "outputs": [
    {
     "data": {
      "text/plain": [
       "<matplotlib.image.AxesImage at 0x7ffb1c830c10>"
      ]
     },
     "execution_count": 28,
     "metadata": {},
     "output_type": "execute_result"
    },
    {
     "data": {
      "image/png": "[encoded data removed]",
      "text/plain": [
       "<Figure size 432x288 with 1 Axes>"
      ]
     },
     "metadata": {
      "needs_background": "light"
     },
     "output_type": "display_data"
    }
   ],
   "source": [
    "plt.imshow(x.permute(1,2,0))"
   ]
  },
  {
   "cell_type": "code",
   "execution_count": 29,
   "id": "34ee356d",
   "metadata": {},
   "outputs": [
    {
     "data": {
      "text/plain": [
       "torch.Size([3, 28, 28])"
      ]
     },
     "execution_count": 29,
     "metadata": {},
     "output_type": "execute_result"
    }
   ],
   "source": [
    "x.shape"
   ]
  },
  {
   "cell_type": "code",
   "execution_count": 30,
   "id": "59a0700b",
   "metadata": {},
   "outputs": [
    {
     "data": {
      "text/plain": [
       "tensor(True)"
      ]
     },
     "execution_count": 30,
     "metadata": {},
     "output_type": "execute_result"
    }
   ],
   "source": [
    "torch.all(x[0] == x[1])"
   ]
  },
  {
   "cell_type": "code",
   "execution_count": 31,
   "id": "f5d75166",
   "metadata": {},
   "outputs": [
    {
     "data": {
      "text/plain": [
       "torch.Size([1, 28, 28])"
      ]
     },
     "execution_count": 31,
     "metadata": {},
     "output_type": "execute_result"
    }
   ],
   "source": [
    "x[:1,...].shape"
   ]
  },
  {
   "cell_type": "code",
   "execution_count": 32,
   "id": "ae600d56",
   "metadata": {},
   "outputs": [
    {
     "name": "stderr",
     "output_type": "stream",
     "text": [
      "/tmp/ipykernel_31148/3427690861.py:32: UserWarning: Implicit dimension choice for softmax has been deprecated. Change the call to include dim=X as an argument.\n",
      "  return F.softmax(x)\n"
     ]
    },
    {
     "data": {
      "text/plain": [
       "tensor([[2.2960e-02, 5.8495e-01, 2.1024e-01, 2.7752e-03, 3.5681e-02, 3.3897e-04,\n",
       "         4.6696e-02, 5.8941e-03, 6.8899e-02, 2.1573e-02]], device='cuda:0',\n",
       "       grad_fn=<SoftmaxBackward>)"
      ]
     },
     "execution_count": 32,
     "metadata": {},
     "output_type": "execute_result"
    }
   ],
   "source": [
    "model(x[:1,...].unsqueeze(0).cuda())"
   ]
  },
  {
   "cell_type": "code",
   "execution_count": 33,
   "id": "28b8068d",
   "metadata": {},
   "outputs": [
    {
     "data": {
      "text/plain": [
       "'exp/image_samples/1109_FashionMNIST_EXP_EXP02_K2_IMAGE_SIZE_28_BATCH_128_TWCII/image_663.png'"
      ]
     },
     "execution_count": 33,
     "metadata": {},
     "output_type": "execute_result"
    }
   ],
   "source": [
    "images[0]"
   ]
  },
  {
   "cell_type": "code",
   "execution_count": 34,
   "id": "2409c98b",
   "metadata": {},
   "outputs": [
    {
     "data": {
      "text/plain": [
       "2816"
      ]
     },
     "execution_count": 34,
     "metadata": {},
     "output_type": "execute_result"
    }
   ],
   "source": [
    "len(images)"
   ]
  },
  {
   "cell_type": "code",
   "execution_count": 35,
   "id": "dc2b1b78",
   "metadata": {},
   "outputs": [],
   "source": [
    "train_x = []\n",
    "train_y = []"
   ]
  },
  {
   "cell_type": "code",
   "execution_count": 36,
   "id": "7601a635",
   "metadata": {},
   "outputs": [],
   "source": [
    "from time import time"
   ]
  },
  {
   "cell_type": "code",
   "execution_count": 37,
   "id": "b0b9af47",
   "metadata": {},
   "outputs": [
    {
     "name": "stdout",
     "output_type": "stream",
     "text": [
      "0 0.00023317337036132812\n",
      "100 0.08258581161499023\n",
      "200 0.15847110748291016\n"
     ]
    },
    {
     "name": "stderr",
     "output_type": "stream",
     "text": [
      "/tmp/ipykernel_31148/3427690861.py:32: UserWarning: Implicit dimension choice for softmax has been deprecated. Change the call to include dim=X as an argument.\n",
      "  return F.softmax(x)\n"
     ]
    },
    {
     "name": "stdout",
     "output_type": "stream",
     "text": [
      "300 0.23533058166503906\n",
      "400 0.3111245632171631\n",
      "500 0.38681459426879883\n",
      "600 0.46296167373657227\n",
      "700 0.5379583835601807\n",
      "800 0.6134734153747559\n",
      "900 0.6896984577178955\n",
      "1000 0.7654495239257812\n",
      "1100 0.8410212993621826\n",
      "1200 0.9166743755340576\n",
      "1300 0.99202561378479\n",
      "1400 1.0670750141143799\n",
      "1500 1.1428580284118652\n",
      "1600 1.217747449874878\n",
      "1700 1.2922687530517578\n",
      "1800 1.3671774864196777\n",
      "1900 1.4418628215789795\n",
      "2000 1.5167934894561768\n",
      "2100 1.5923523902893066\n",
      "2200 1.6680736541748047\n",
      "2300 1.7436561584472656\n",
      "2400 1.8195934295654297\n",
      "2500 1.894538402557373\n",
      "2600 1.9697504043579102\n",
      "2700 2.0457396507263184\n",
      "2800 2.122020721435547\n"
     ]
    }
   ],
   "source": [
    "st = time()\n",
    "\n",
    "for ix, img in enumerate(images):\n",
    "    if ix % 100 == 0:\n",
    "        print(ix, time() - st)\n",
    "        \n",
    "    x = transform(Image.open(img))\n",
    "    pred_y = model(x[:1,...].unsqueeze(0).cuda())\n",
    "    \n",
    "    np_x = x.cpu().numpy()\n",
    "    np_y = torch.round(pred_y).cpu().detach().numpy()[0]\n",
    "    \n",
    "    train_x.append(np_x)\n",
    "    train_y.append(np_y)\n",
    "    "
   ]
  },
  {
   "cell_type": "code",
   "execution_count": 38,
   "id": "2345729f",
   "metadata": {},
   "outputs": [],
   "source": [
    "import numpy as np"
   ]
  },
  {
   "cell_type": "code",
   "execution_count": 39,
   "id": "0f341ec5",
   "metadata": {},
   "outputs": [],
   "source": [
    "yy = [np.argmax(y) for y in train_y]"
   ]
  },
  {
   "cell_type": "code",
   "execution_count": 40,
   "id": "2d8a9caa",
   "metadata": {},
   "outputs": [
    {
     "data": {
      "text/plain": [
       "(array([0, 1, 2, 4, 6, 8]), array([1071, 1026,  708,    3,    6,    2]))"
      ]
     },
     "execution_count": 40,
     "metadata": {},
     "output_type": "execute_result"
    }
   ],
   "source": [
    "np.unique(yy, return_counts=True)"
   ]
  },
  {
   "cell_type": "code",
   "execution_count": null,
   "id": "fc5dbdb7",
   "metadata": {},
   "outputs": [],
   "source": []
  },
  {
   "cell_type": "code",
   "execution_count": null,
   "id": "4513193e",
   "metadata": {},
   "outputs": [],
   "source": []
  },
  {
   "cell_type": "code",
   "execution_count": 41,
   "id": "a370e4a4",
   "metadata": {},
   "outputs": [],
   "source": [
    "import joblib"
   ]
  },
  {
   "cell_type": "code",
   "execution_count": 42,
   "id": "c16fd5b5",
   "metadata": {},
   "outputs": [
    {
     "data": {
      "text/plain": [
       "['./train_fmnist_y_exp_02.pkl']"
      ]
     },
     "execution_count": 42,
     "metadata": {},
     "output_type": "execute_result"
    }
   ],
   "source": [
    "joblib.dump(train_x, './train_fmnist_x_exp_02.pkl')\n",
    "joblib.dump(train_y, './train_fmnist_y_exp_02.pkl')"
   ]
  },
  {
   "cell_type": "code",
   "execution_count": null,
   "id": "b04022fe",
   "metadata": {},
   "outputs": [],
   "source": [
    "# joblib.dump(train_x, './train_fmnist_x_exp_inf.pkl')\n",
    "# joblib.dump(train_y, './train_fmnist_y_exp_inf.pkl')"
   ]
  },
  {
   "cell_type": "code",
   "execution_count": null,
   "id": "472dab89",
   "metadata": {},
   "outputs": [],
   "source": [
    "# joblib.dump(train_x, './train_mnist_x_exp_inf.pkl')\n",
    "# joblib.dump(train_y, './train_mnist_y_exp_inf.pkl')"
   ]
  },
  {
   "cell_type": "code",
   "execution_count": null,
   "id": "abef0ab9",
   "metadata": {},
   "outputs": [],
   "source": [
    "# joblib.dump(train_x, './train_mnist_x_exp1_k2.pkl')\n",
    "# joblib.dump(train_y, './train_mnist_y_exp1_k2.pkl')"
   ]
  },
  {
   "cell_type": "code",
   "execution_count": null,
   "id": "f18142ac",
   "metadata": {},
   "outputs": [],
   "source": [
    "# joblib.dump(train_x, './train_mnist_x_exp10_k5.pkl')\n",
    "# joblib.dump(train_y, './train_mnist_y_exp10_k5.pkl')"
   ]
  },
  {
   "cell_type": "code",
   "execution_count": null,
   "id": "2ed39e37",
   "metadata": {},
   "outputs": [],
   "source": []
  }
 ],
 "metadata": {
  "kernelspec": {
   "display_name": "Python 3 (ipykernel)",
   "language": "python",
   "name": "python3"
  },
  "language_info": {
   "codemirror_mode": {
    "name": "ipython",
    "version": 3
   },
   "file_extension": ".py",
   "mimetype": "text/x-python",
   "name": "python",
   "nbconvert_exporter": "python",
   "pygments_lexer": "ipython3",
   "version": "3.8.10"
  }
 },
 "nbformat": 4,
 "nbformat_minor": 5
}
